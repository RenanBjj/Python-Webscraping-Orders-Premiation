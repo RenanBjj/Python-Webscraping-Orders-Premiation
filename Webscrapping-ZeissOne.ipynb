{
 "cells": [
  {
   "cell_type": "markdown",
   "id": "b02bac40",
   "metadata": {},
   "source": [
    "## Projeto de Webscrapping\n",
    "\n",
    "#### Objetivo:\n",
    "- Extrair os pedidos do site do fornecedor\n",
    "- Inserir em outra plataforma online para bonificação de premios\n",
    "\n",
    "#### Caminho a ser seguido:\n",
    "- Abrir site de pedidos Zeiss\n",
    "- Pegar os pedidos do mês anterior\n",
    "- Inserir pedidos na plataforma de prêmios"
   ]
  },
  {
   "cell_type": "code",
   "execution_count": 1,
   "id": "ea7f7bee",
   "metadata": {},
   "outputs": [],
   "source": [
    "from selenium import webdriver\n",
    "import time\n",
    "from selenium.webdriver.common.keys import Keys\n",
    "from selenium.webdriver.common.by import By\n",
    "from selenium.webdriver.support.ui import WebDriverWait\n",
    "from selenium.webdriver.support import expected_conditions as EC\n",
    "from datetime import datetime, timedelta"
   ]
  },
  {
   "cell_type": "code",
   "execution_count": 56,
   "id": "45381a6c",
   "metadata": {},
   "outputs": [],
   "source": [
    "# Definição de variáveis e inserção de login e senhas que serão utilizadas\n",
    "\n",
    "usuario = 'usuario_censurado'\n",
    "senha = 'senha_censurada'\n",
    "cnpj = 'cnpj_censurado'\n",
    "\n",
    "pedidos_zeiss_realizados = []\n",
    "\n",
    "hoje = datetime.today()\n",
    "data_ajustada = hoje.replace(day=1) - timedelta(days=1)\n",
    "ano = data_ajustada.year\n",
    "ano = str(ano)[-2:]\n",
    "mes_anterior = data_ajustada.month\n",
    "if len(str(mes_anterior)) == 1:\n",
    "    mes_anterior = '0' + str(mes_anterior)"
   ]
  },
  {
   "cell_type": "code",
   "execution_count": 57,
   "id": "828522dd",
   "metadata": {},
   "outputs": [],
   "source": [
    "# Realizando login no site do fornecedor\n",
    "\n",
    "nav3 = webdriver.Chrome()\n",
    "nav3.get('https://pedidolab.lenteszeiss.com.br/scripts/cgiip.exe/WService%3Dproducao/index.html')\n",
    "nav3.switch_to.frame('conteudo')\n",
    "nav3.find_element('xpath', '/html/body/div/div[1]/form/table/tbody/tr[2]/td[2]/input').send_keys('login_censurado')\n",
    "nav3.find_element('xpath', '/html/body/div/div[1]/form/table/tbody/tr[3]/td[2]/input').send_keys('senha_censurada')\n",
    "nav3.find_element('xpath', '/html/body/div/div[1]/form/table/tbody/tr[3]/td[2]/input').send_keys(Keys.ENTER)\n",
    "\n",
    "main_window = nav3.current_window_handle\n",
    "\n",
    "# Fechando Pop ups e voltando para a janela principal\n",
    "for i in nav3.window_handles:\n",
    "    if i != main_window:\n",
    "        nav3.switch_to.window(i)\n",
    "        nav3.close()\n",
    "\n",
    "nav3.switch_to.window(main_window)"
   ]
  },
  {
   "cell_type": "code",
   "execution_count": 58,
   "id": "732ea08d",
   "metadata": {},
   "outputs": [],
   "source": [
    "# Filtrando datas para extração dos números dos pedidos (obs: o site somente suporta pesquisa de no máximo 30 dias)\n",
    "\n",
    "nav3.get('https://pedidolab.lenteszeiss.com.br/scripts/cgiip.exe/WService%3Dproducao/saow102.html?pAuto=NO')\n",
    "nav3.find_element('id', 'txt_inicio').send_keys(Keys.CONTROL, 'a')\n",
    "nav3.find_element('id', 'txt_inicio').send_keys('01/'+ str(mes_anterior) +f'/{ano}')\n",
    "nav3.find_element('id', 'txt_fim').send_keys(Keys.CONTROL, 'a')\n",
    "\n",
    "if mes_anterior == 2:\n",
    "    nav3.find_element('id', 'txt_fim').send_keys('28/'+ str(mes_anterior) +f'/{ano}')\n",
    "else:\n",
    "    nav3.find_element('id', 'txt_fim').send_keys('30/'+ str(mes_anterior) +f'/{ano}')\n",
    "\n",
    "nav3.find_element('id', 'b_enviar').click()\n",
    "\n",
    "# Pegar todos os pedidos dentro da data selecionada.\n",
    "while True:\n",
    "    try:\n",
    "        for i in range(10):\n",
    "            pedidos_zeiss_realizados.append(nav3.find_element('xpath', '/html/body/form/table[3]/tbody/tr/td/table/tbody/tr['+ str(i+2) +']/td[3]').get_attribute('innerText'))\n",
    "        nav3.find_element('xpath', '/html/body/form/p/table/tbody/tr/td[6]/a').click()\n",
    "    except:\n",
    "        break\n",
    "\n",
    "# Em caso de meses com mais de 30 dias, o sistema faz uma nova consulta, pegando apenas o último dia faltante (31)\n",
    "if mes_anterior in [1, 3, 5, 7, 8, 12]:\n",
    "    nav3.get('https://pedidolab.lenteszeiss.com.br/scripts/cgiip.exe/WService%3Dproducao/saow102.html?pAuto=NO')\n",
    "    nav3.find_element('id', 'txt_inicio').send_keys(Keys.CONTROL, 'a')\n",
    "    nav3.find_element('id', 'txt_inicio').send_keys('31/'+ str(mes_anterior) +'/24')\n",
    "    nav3.find_element('id', 'txt_fim').send_keys(Keys.CONTROL, 'a')\n",
    "    nav3.find_element('id', 'txt_fim').send_keys('31/'+ str(mes_anterior) +'/24')\n",
    "    nav3.find_element('id', 'b_enviar').click()\n",
    "\n",
    "    while True:\n",
    "        try:\n",
    "            for i in range(10):\n",
    "                pedidos_zeiss_realizados.append(nav3.find_element('xpath', '/html/body/form/table[3]/tbody/tr/td/table/tbody/tr['+ str(i+2) +']/td[3]').get_attribute('innerText'))\n",
    "            nav3.find_element('xpath', '/html/body/form/p/table/tbody/tr/td[6]/a').click()\n",
    "        except:\n",
    "            break"
   ]
  },
  {
   "cell_type": "code",
   "execution_count": 60,
   "id": "e08eb986",
   "metadata": {},
   "outputs": [
    {
     "name": "stdout",
     "output_type": "stream",
     "text": [
      "Produto VS ZEISS LIGHT 2 1.67 BLUEGUARD: Seu certificado foi inserido com sucesso. Total de pontos liberado(s): 1,800.00\n",
      "Produto VS ZEISS MyoCare S 1.59: Seu certificado foi inserido com sucesso. Total de pontos liberado(s): 1,800.00\n",
      "Produto ZEISS Acabadas ClearView Chrome 1.50: Seu certificado foi inserido com sucesso. Total de pontos liberado(s): 00.00\n",
      "Produto ZEISS Acabadas ClearView Silver 1.67: Seu certificado foi inserido com sucesso. Total de pontos liberado(s): 00.00\n",
      "Produto ZEISS Acabadas ClearView Chrome 1.50: Seu certificado foi inserido com sucesso. Total de pontos liberado(s): 00.00\n",
      "Produto VS ZEISS LIGHT 2 1.50 BLUEGUARD: Seu certificado foi inserido com sucesso. Total de pontos liberado(s): 600.00\n",
      "Produto VS ZEISS LIGHT 2 1.50 BLUEGUARD: Seu certificado foi inserido com sucesso. Total de pontos liberado(s): 600.00\n",
      "Produto ZEISS Acabadas ClearView Silver 1.50: Seu certificado foi inserido com sucesso. Total de pontos liberado(s): 00.00\n",
      "Produto ZEISS Acabadas ClearView Silver 1.50: Seu certificado foi inserido com sucesso. Total de pontos liberado(s): 00.00\n",
      "Produto ZEISS Acabadas ClearView Chrome 1.50: Seu certificado foi inserido com sucesso. Total de pontos liberado(s): 00.00\n",
      "Produto VS ZEISS LIGHT 2 1.50 BLUEGUARD: Seu certificado foi inserido com sucesso. Total de pontos liberado(s): 1,200.00\n",
      "Produto VS ZEISS LIGHT 2 1.59 BLUEGUARD: Seu certificado foi inserido com sucesso. Total de pontos liberado(s): 1,800.00\n",
      "Produto VS ZEISS LIGHT 2 1.60 BLUEGUARD: Seu certificado foi inserido com sucesso. Total de pontos liberado(s): 1,800.00\n",
      "Produto ZEISS Acabadas ClearView Silver 1.50: Seu certificado foi inserido com sucesso. Total de pontos liberado(s): 00.00\n",
      "Produto ZEISS Acabadas ClearView Silver 1.50: Seu certificado foi inserido com sucesso. Total de pontos liberado(s): 00.00\n",
      "Produto PR ZEISS Light 3D 18 1.50 - UV Protect: Seu certificado foi inserido com sucesso. Total de pontos liberado(s): 900.00\n",
      "Produto ZEISS Acabadas ClearView Silver 1.50: Seu certificado foi inserido com sucesso. Total de pontos liberado(s): 00.00\n",
      "Produto PR ZEISS GT2 Freeform NE - 1.50: Seu certificado foi inserido com sucesso. Total de pontos liberado(s): 00.00\n",
      "Produto ZEISS Acabadas ClearView Silver 1.50: Seu certificado foi inserido com sucesso. Total de pontos liberado(s): 00.00\n",
      "Produto LP ZEISS CLEARVIEW DV SILVER 1.59 BLUEGUARD : Seu certificado foi inserido com sucesso. Total de pontos liberado(s): 00.00\n",
      "Produto ZEISS Acabadas ClearView Silver 1.50: Seu certificado foi inserido com sucesso. Total de pontos liberado(s): 00.00\n"
     ]
    }
   ],
   "source": [
    "# Abrindo site de premiação para inserção de pedidos armazenados\n",
    "\n",
    "nav3.get('https://zeissone.com.br/')\n",
    "nav3.find_element('id', 'Usuario').send_keys(usuario)\n",
    "nav3.find_element('id', 'password-field').send_keys(senha)\n",
    "nav3.find_element('id', 'password-field').send_keys(Keys.ENTER)\n",
    "nav3.get('https://zeissone.com.br/Insercao')\n",
    "\n",
    "# Inserção de pedidos\n",
    "# Pedidos com premiação gerada com sucesso mostrarão uma mensagem com o produto e a pontuação liberada\n",
    "\n",
    "for pedido in pedidos_zeiss_realizados:\n",
    "    nav3.find_element('id', 'CNPJ').send_keys(Keys.CONTROL, 'a')\n",
    "    nav3.find_element('id', 'CNPJ').send_keys(cnpj)\n",
    "    nav3.find_element('id', 'Pedido').send_keys(Keys.CONTROL, 'a')\n",
    "    nav3.find_element('id', 'Pedido').send_keys(pedido)\n",
    "    nav3.execute_script(\"arguments[0].scrollIntoView();\", nav3.find_element('id', 'Pedido'))\n",
    "    time.sleep(0.3)\n",
    "    nav3.find_element('id', 'btnEnviarCertificado').click()\n",
    "    if 'sucesso' in nav3.find_element('xpath', '/html/body/div[2]/div/p').get_attribute('innerText'):\n",
    "        print(nav3.find_element('xpath', '/html/body/div[2]/div/p').get_attribute('innerText'))\n"
   ]
  }
 ],
 "metadata": {
  "kernelspec": {
   "display_name": "Python 3 (ipykernel)",
   "language": "python",
   "name": "python3"
  },
  "language_info": {
   "codemirror_mode": {
    "name": "ipython",
    "version": 3
   },
   "file_extension": ".py",
   "mimetype": "text/x-python",
   "name": "python",
   "nbconvert_exporter": "python",
   "pygments_lexer": "ipython3",
   "version": "3.11.7"
  }
 },
 "nbformat": 4,
 "nbformat_minor": 5
}
